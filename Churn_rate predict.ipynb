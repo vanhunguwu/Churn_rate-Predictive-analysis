{
 "cells": [
  {
   "cell_type": "code",
   "execution_count": 38,
   "id": "68485390",
   "metadata": {},
   "outputs": [],
   "source": [
    "import numpy as np\n",
    "import pandas as pd \n",
    "import matplotlib.pyplot as plt\n",
    "from scipy import stats\n",
    "import seaborn as sns\n",
    "from sklearn.model_selection import train_test_split\n",
    "from sklearn.preprocessing import StandardScaler\n",
    "from sklearn.linear_model import LogisticRegression\n",
    "from sklearn.ensemble import RandomForestClassifier\n",
    "from sklearn.svm import SVC\n",
    "from sklearn.tree import DecisionTreeClassifier\n",
    "from sklearn.metrics import accuracy_score, classification_report\n",
    "from sklearn.model_selection import GridSearchCV"
   ]
  },
  {
   "cell_type": "markdown",
   "id": "2f2f8562",
   "metadata": {},
   "source": [
    "1. Import the dataset"
   ]
  },
  {
   "cell_type": "code",
   "execution_count": 39,
   "id": "015823aa",
   "metadata": {},
   "outputs": [],
   "source": [
    "df_train = pd.read_csv(r\"C:\\Data_for_learning_overall\\MCI_test\\ChurnRate\\churn-bigml-80.csv\")\n",
    "df_test = pd.read_csv(r\"C:\\Data_for_learning_overall\\MCI_test\\ChurnRate\\churn-bigml-20.csv\")"
   ]
  },
  {
   "cell_type": "code",
   "execution_count": 40,
   "id": "1f9d2db6",
   "metadata": {},
   "outputs": [
    {
     "data": {
      "text/html": [
       "<div>\n",
       "<style scoped>\n",
       "    .dataframe tbody tr th:only-of-type {\n",
       "        vertical-align: middle;\n",
       "    }\n",
       "\n",
       "    .dataframe tbody tr th {\n",
       "        vertical-align: top;\n",
       "    }\n",
       "\n",
       "    .dataframe thead th {\n",
       "        text-align: right;\n",
       "    }\n",
       "</style>\n",
       "<table border=\"1\" class=\"dataframe\">\n",
       "  <thead>\n",
       "    <tr style=\"text-align: right;\">\n",
       "      <th></th>\n",
       "      <th>State</th>\n",
       "      <th>Account length</th>\n",
       "      <th>Area code</th>\n",
       "      <th>International plan</th>\n",
       "      <th>Voice mail plan</th>\n",
       "      <th>Number vmail messages</th>\n",
       "      <th>Total day minutes</th>\n",
       "      <th>Total day calls</th>\n",
       "      <th>Total day charge</th>\n",
       "      <th>Total eve minutes</th>\n",
       "      <th>Total eve calls</th>\n",
       "      <th>Total eve charge</th>\n",
       "      <th>Total night minutes</th>\n",
       "      <th>Total night calls</th>\n",
       "      <th>Total night charge</th>\n",
       "      <th>Total intl minutes</th>\n",
       "      <th>Total intl calls</th>\n",
       "      <th>Total intl charge</th>\n",
       "      <th>Customer service calls</th>\n",
       "      <th>Churn</th>\n",
       "    </tr>\n",
       "  </thead>\n",
       "  <tbody>\n",
       "    <tr>\n",
       "      <th>0</th>\n",
       "      <td>KS</td>\n",
       "      <td>128</td>\n",
       "      <td>415</td>\n",
       "      <td>No</td>\n",
       "      <td>Yes</td>\n",
       "      <td>25</td>\n",
       "      <td>265.1</td>\n",
       "      <td>110</td>\n",
       "      <td>45.07</td>\n",
       "      <td>197.4</td>\n",
       "      <td>99</td>\n",
       "      <td>16.78</td>\n",
       "      <td>244.7</td>\n",
       "      <td>91</td>\n",
       "      <td>11.01</td>\n",
       "      <td>10.0</td>\n",
       "      <td>3</td>\n",
       "      <td>2.70</td>\n",
       "      <td>1</td>\n",
       "      <td>False</td>\n",
       "    </tr>\n",
       "    <tr>\n",
       "      <th>1</th>\n",
       "      <td>OH</td>\n",
       "      <td>107</td>\n",
       "      <td>415</td>\n",
       "      <td>No</td>\n",
       "      <td>Yes</td>\n",
       "      <td>26</td>\n",
       "      <td>161.6</td>\n",
       "      <td>123</td>\n",
       "      <td>27.47</td>\n",
       "      <td>195.5</td>\n",
       "      <td>103</td>\n",
       "      <td>16.62</td>\n",
       "      <td>254.4</td>\n",
       "      <td>103</td>\n",
       "      <td>11.45</td>\n",
       "      <td>13.7</td>\n",
       "      <td>3</td>\n",
       "      <td>3.70</td>\n",
       "      <td>1</td>\n",
       "      <td>False</td>\n",
       "    </tr>\n",
       "    <tr>\n",
       "      <th>2</th>\n",
       "      <td>NJ</td>\n",
       "      <td>137</td>\n",
       "      <td>415</td>\n",
       "      <td>No</td>\n",
       "      <td>No</td>\n",
       "      <td>0</td>\n",
       "      <td>243.4</td>\n",
       "      <td>114</td>\n",
       "      <td>41.38</td>\n",
       "      <td>121.2</td>\n",
       "      <td>110</td>\n",
       "      <td>10.30</td>\n",
       "      <td>162.6</td>\n",
       "      <td>104</td>\n",
       "      <td>7.32</td>\n",
       "      <td>12.2</td>\n",
       "      <td>5</td>\n",
       "      <td>3.29</td>\n",
       "      <td>0</td>\n",
       "      <td>False</td>\n",
       "    </tr>\n",
       "    <tr>\n",
       "      <th>3</th>\n",
       "      <td>OH</td>\n",
       "      <td>84</td>\n",
       "      <td>408</td>\n",
       "      <td>Yes</td>\n",
       "      <td>No</td>\n",
       "      <td>0</td>\n",
       "      <td>299.4</td>\n",
       "      <td>71</td>\n",
       "      <td>50.90</td>\n",
       "      <td>61.9</td>\n",
       "      <td>88</td>\n",
       "      <td>5.26</td>\n",
       "      <td>196.9</td>\n",
       "      <td>89</td>\n",
       "      <td>8.86</td>\n",
       "      <td>6.6</td>\n",
       "      <td>7</td>\n",
       "      <td>1.78</td>\n",
       "      <td>2</td>\n",
       "      <td>False</td>\n",
       "    </tr>\n",
       "    <tr>\n",
       "      <th>4</th>\n",
       "      <td>OK</td>\n",
       "      <td>75</td>\n",
       "      <td>415</td>\n",
       "      <td>Yes</td>\n",
       "      <td>No</td>\n",
       "      <td>0</td>\n",
       "      <td>166.7</td>\n",
       "      <td>113</td>\n",
       "      <td>28.34</td>\n",
       "      <td>148.3</td>\n",
       "      <td>122</td>\n",
       "      <td>12.61</td>\n",
       "      <td>186.9</td>\n",
       "      <td>121</td>\n",
       "      <td>8.41</td>\n",
       "      <td>10.1</td>\n",
       "      <td>3</td>\n",
       "      <td>2.73</td>\n",
       "      <td>3</td>\n",
       "      <td>False</td>\n",
       "    </tr>\n",
       "    <tr>\n",
       "      <th>...</th>\n",
       "      <td>...</td>\n",
       "      <td>...</td>\n",
       "      <td>...</td>\n",
       "      <td>...</td>\n",
       "      <td>...</td>\n",
       "      <td>...</td>\n",
       "      <td>...</td>\n",
       "      <td>...</td>\n",
       "      <td>...</td>\n",
       "      <td>...</td>\n",
       "      <td>...</td>\n",
       "      <td>...</td>\n",
       "      <td>...</td>\n",
       "      <td>...</td>\n",
       "      <td>...</td>\n",
       "      <td>...</td>\n",
       "      <td>...</td>\n",
       "      <td>...</td>\n",
       "      <td>...</td>\n",
       "      <td>...</td>\n",
       "    </tr>\n",
       "    <tr>\n",
       "      <th>2661</th>\n",
       "      <td>SC</td>\n",
       "      <td>79</td>\n",
       "      <td>415</td>\n",
       "      <td>No</td>\n",
       "      <td>No</td>\n",
       "      <td>0</td>\n",
       "      <td>134.7</td>\n",
       "      <td>98</td>\n",
       "      <td>22.90</td>\n",
       "      <td>189.7</td>\n",
       "      <td>68</td>\n",
       "      <td>16.12</td>\n",
       "      <td>221.4</td>\n",
       "      <td>128</td>\n",
       "      <td>9.96</td>\n",
       "      <td>11.8</td>\n",
       "      <td>5</td>\n",
       "      <td>3.19</td>\n",
       "      <td>2</td>\n",
       "      <td>False</td>\n",
       "    </tr>\n",
       "    <tr>\n",
       "      <th>2662</th>\n",
       "      <td>AZ</td>\n",
       "      <td>192</td>\n",
       "      <td>415</td>\n",
       "      <td>No</td>\n",
       "      <td>Yes</td>\n",
       "      <td>36</td>\n",
       "      <td>156.2</td>\n",
       "      <td>77</td>\n",
       "      <td>26.55</td>\n",
       "      <td>215.5</td>\n",
       "      <td>126</td>\n",
       "      <td>18.32</td>\n",
       "      <td>279.1</td>\n",
       "      <td>83</td>\n",
       "      <td>12.56</td>\n",
       "      <td>9.9</td>\n",
       "      <td>6</td>\n",
       "      <td>2.67</td>\n",
       "      <td>2</td>\n",
       "      <td>False</td>\n",
       "    </tr>\n",
       "    <tr>\n",
       "      <th>2663</th>\n",
       "      <td>WV</td>\n",
       "      <td>68</td>\n",
       "      <td>415</td>\n",
       "      <td>No</td>\n",
       "      <td>No</td>\n",
       "      <td>0</td>\n",
       "      <td>231.1</td>\n",
       "      <td>57</td>\n",
       "      <td>39.29</td>\n",
       "      <td>153.4</td>\n",
       "      <td>55</td>\n",
       "      <td>13.04</td>\n",
       "      <td>191.3</td>\n",
       "      <td>123</td>\n",
       "      <td>8.61</td>\n",
       "      <td>9.6</td>\n",
       "      <td>4</td>\n",
       "      <td>2.59</td>\n",
       "      <td>3</td>\n",
       "      <td>False</td>\n",
       "    </tr>\n",
       "    <tr>\n",
       "      <th>2664</th>\n",
       "      <td>RI</td>\n",
       "      <td>28</td>\n",
       "      <td>510</td>\n",
       "      <td>No</td>\n",
       "      <td>No</td>\n",
       "      <td>0</td>\n",
       "      <td>180.8</td>\n",
       "      <td>109</td>\n",
       "      <td>30.74</td>\n",
       "      <td>288.8</td>\n",
       "      <td>58</td>\n",
       "      <td>24.55</td>\n",
       "      <td>191.9</td>\n",
       "      <td>91</td>\n",
       "      <td>8.64</td>\n",
       "      <td>14.1</td>\n",
       "      <td>6</td>\n",
       "      <td>3.81</td>\n",
       "      <td>2</td>\n",
       "      <td>False</td>\n",
       "    </tr>\n",
       "    <tr>\n",
       "      <th>2665</th>\n",
       "      <td>TN</td>\n",
       "      <td>74</td>\n",
       "      <td>415</td>\n",
       "      <td>No</td>\n",
       "      <td>Yes</td>\n",
       "      <td>25</td>\n",
       "      <td>234.4</td>\n",
       "      <td>113</td>\n",
       "      <td>39.85</td>\n",
       "      <td>265.9</td>\n",
       "      <td>82</td>\n",
       "      <td>22.60</td>\n",
       "      <td>241.4</td>\n",
       "      <td>77</td>\n",
       "      <td>10.86</td>\n",
       "      <td>13.7</td>\n",
       "      <td>4</td>\n",
       "      <td>3.70</td>\n",
       "      <td>0</td>\n",
       "      <td>False</td>\n",
       "    </tr>\n",
       "  </tbody>\n",
       "</table>\n",
       "<p>2666 rows × 20 columns</p>\n",
       "</div>"
      ],
      "text/plain": [
       "     State  Account length  Area code International plan Voice mail plan  \\\n",
       "0       KS             128        415                 No             Yes   \n",
       "1       OH             107        415                 No             Yes   \n",
       "2       NJ             137        415                 No              No   \n",
       "3       OH              84        408                Yes              No   \n",
       "4       OK              75        415                Yes              No   \n",
       "...    ...             ...        ...                ...             ...   \n",
       "2661    SC              79        415                 No              No   \n",
       "2662    AZ             192        415                 No             Yes   \n",
       "2663    WV              68        415                 No              No   \n",
       "2664    RI              28        510                 No              No   \n",
       "2665    TN              74        415                 No             Yes   \n",
       "\n",
       "      Number vmail messages  Total day minutes  Total day calls  \\\n",
       "0                        25              265.1              110   \n",
       "1                        26              161.6              123   \n",
       "2                         0              243.4              114   \n",
       "3                         0              299.4               71   \n",
       "4                         0              166.7              113   \n",
       "...                     ...                ...              ...   \n",
       "2661                      0              134.7               98   \n",
       "2662                     36              156.2               77   \n",
       "2663                      0              231.1               57   \n",
       "2664                      0              180.8              109   \n",
       "2665                     25              234.4              113   \n",
       "\n",
       "      Total day charge  Total eve minutes  Total eve calls  Total eve charge  \\\n",
       "0                45.07              197.4               99             16.78   \n",
       "1                27.47              195.5              103             16.62   \n",
       "2                41.38              121.2              110             10.30   \n",
       "3                50.90               61.9               88              5.26   \n",
       "4                28.34              148.3              122             12.61   \n",
       "...                ...                ...              ...               ...   \n",
       "2661             22.90              189.7               68             16.12   \n",
       "2662             26.55              215.5              126             18.32   \n",
       "2663             39.29              153.4               55             13.04   \n",
       "2664             30.74              288.8               58             24.55   \n",
       "2665             39.85              265.9               82             22.60   \n",
       "\n",
       "      Total night minutes  Total night calls  Total night charge  \\\n",
       "0                   244.7                 91               11.01   \n",
       "1                   254.4                103               11.45   \n",
       "2                   162.6                104                7.32   \n",
       "3                   196.9                 89                8.86   \n",
       "4                   186.9                121                8.41   \n",
       "...                   ...                ...                 ...   \n",
       "2661                221.4                128                9.96   \n",
       "2662                279.1                 83               12.56   \n",
       "2663                191.3                123                8.61   \n",
       "2664                191.9                 91                8.64   \n",
       "2665                241.4                 77               10.86   \n",
       "\n",
       "      Total intl minutes  Total intl calls  Total intl charge  \\\n",
       "0                   10.0                 3               2.70   \n",
       "1                   13.7                 3               3.70   \n",
       "2                   12.2                 5               3.29   \n",
       "3                    6.6                 7               1.78   \n",
       "4                   10.1                 3               2.73   \n",
       "...                  ...               ...                ...   \n",
       "2661                11.8                 5               3.19   \n",
       "2662                 9.9                 6               2.67   \n",
       "2663                 9.6                 4               2.59   \n",
       "2664                14.1                 6               3.81   \n",
       "2665                13.7                 4               3.70   \n",
       "\n",
       "      Customer service calls  Churn  \n",
       "0                          1  False  \n",
       "1                          1  False  \n",
       "2                          0  False  \n",
       "3                          2  False  \n",
       "4                          3  False  \n",
       "...                      ...    ...  \n",
       "2661                       2  False  \n",
       "2662                       2  False  \n",
       "2663                       3  False  \n",
       "2664                       2  False  \n",
       "2665                       0  False  \n",
       "\n",
       "[2666 rows x 20 columns]"
      ]
     },
     "execution_count": 40,
     "metadata": {},
     "output_type": "execute_result"
    }
   ],
   "source": [
    "df_train"
   ]
  },
  {
   "cell_type": "markdown",
   "id": "0bfd4297",
   "metadata": {},
   "source": [
    "2. EDA"
   ]
  },
  {
   "cell_type": "markdown",
   "id": "e1431b0c",
   "metadata": {},
   "source": [
    "- Printing out all the Boxplot "
   ]
  },
  {
   "cell_type": "code",
   "execution_count": 41,
   "id": "183d6c79",
   "metadata": {
    "scrolled": false
   },
   "outputs": [
    {
     "data": {
      "image/png": "[encoded data removed]",
      "text/plain": [
       "<Figure size 1500x1500 with 16 Axes>"
      ]
     },
     "metadata": {},
     "output_type": "display_data"
    }
   ],
   "source": [
    "columns_for_boxplots = [\n",
    "    'Account length', 'Number vmail messages', 'Total day minutes', 'Total day calls',\n",
    "    'Total day charge', 'Total eve minutes', 'Total eve calls', 'Total eve charge',\n",
    "    'Total night minutes', 'Total night calls', 'Total night charge',\n",
    "    'Total intl minutes', 'Total intl calls', 'Total intl charge', 'Customer service calls'\n",
    "]\n",
    "\n",
    "# Creating subplots for boxplots\n",
    "fig, axes = plt.subplots(nrows=4, ncols=4, figsize=(15, 15))\n",
    "\n",
    "# Flatten the axes for easy indexing\n",
    "axes = axes.flatten()\n",
    "\n",
    "# Plotting boxplots for each selected column\n",
    "for i, column in enumerate(columns_for_boxplots):\n",
    "    df_train.boxplot(column=column, ax=axes[i], vert=False)\n",
    "    axes[i].set_title(column)\n",
    "\n",
    "# Adjust layout for better visualization\n",
    "plt.tight_layout()\n",
    "\n",
    "# Show the plot\n",
    "plt.show()"
   ]
  },
  {
   "cell_type": "markdown",
   "id": "fe2f3991",
   "metadata": {},
   "source": [
    "- Remove datapoint which are potential outliers because they are far from the mean point by Z-Score "
   ]
  },
  {
   "cell_type": "code",
   "execution_count": 42,
   "id": "c7236d38",
   "metadata": {},
   "outputs": [
    {
     "name": "stdout",
     "output_type": "stream",
     "text": [
      "Original DataFrame shape: (2666, 20)\n",
      "DataFrame shape after removing outliers: (2536, 20)\n"
     ]
    }
   ],
   "source": [
    "\n",
    "# Specify the columns for which you want to remove outliers\n",
    "columns_for_outliers = [\n",
    "    'Account length', 'Number vmail messages', 'Total day minutes', 'Total day calls',\n",
    "    'Total day charge', 'Total eve minutes', 'Total eve calls', 'Total eve charge',\n",
    "    'Total night minutes', 'Total night calls', 'Total night charge',\n",
    "    'Total intl minutes', 'Total intl calls', 'Total intl charge', 'Customer service calls'\n",
    "]\n",
    "\n",
    "# Calculate Z-scores for specified columns\n",
    "z_scores = np.abs(stats.zscore(df_train[columns_for_outliers]))\n",
    "\n",
    "# Define a threshold (e.g., 3) for Z-score beyond which data points are considered outliers\n",
    "threshold = 3\n",
    "\n",
    "# Create a mask for outliers\n",
    "outlier_mask = (z_scores > threshold).any(axis=1)\n",
    "\n",
    "# Remove outliers from the DataFrame\n",
    "df_train_no_outliers = df_train[~outlier_mask]\n",
    "\n",
    "# Print the shape of the original and outlier-removed DataFrames\n",
    "print(\"Original DataFrame shape:\", df_train.shape)\n",
    "print(\"DataFrame shape after removing outliers:\", df_train_no_outliers.shape)\n"
   ]
  },
  {
   "cell_type": "code",
   "execution_count": 43,
   "id": "0e108bb8",
   "metadata": {},
   "outputs": [
    {
     "name": "stdout",
     "output_type": "stream",
     "text": [
      "Churn Value Counts:\n",
      "Churn\n",
      "False    2278\n",
      "True      388\n",
      "Name: count, dtype: int64\n"
     ]
    }
   ],
   "source": [
    "churn_counts = df_train['Churn'].value_counts()\n",
    "\n",
    "print(\"Churn Value Counts:\")\n",
    "print(churn_counts)"
   ]
  },
  {
   "cell_type": "markdown",
   "id": "c3141f18",
   "metadata": {},
   "source": [
    "=> seems to be an unbalanced dataset this too many False values compare to True in Churn. Dealing with an imbalanced dataset, resampling with replacement, also known as oversampling, is one of the common techniques to avoid get a unbiased train/test dataset."
   ]
  },
  {
   "cell_type": "code",
   "execution_count": 44,
   "id": "04990e07",
   "metadata": {
    "scrolled": false
   },
   "outputs": [
    {
     "data": {
      "image/png": "[encoded data removed]",
      "text/plain": [
       "<Figure size 1600x800 with 2 Axes>"
      ]
     },
     "metadata": {},
     "output_type": "display_data"
    }
   ],
   "source": [
    "import matplotlib.pyplot as plt\n",
    "\n",
    "# Aggregating data based on 'State' and 'International plan', and calculating Churn rates\n",
    "agg_data_state = df_train.groupby(['State', 'International plan'])['Churn'].mean().reset_index()\n",
    "\n",
    "# Aggregating data based on 'Area code' and 'International plan', and calculating Churn rates\n",
    "agg_data_area = df_train.groupby(['Area code', 'International plan'])['Churn'].mean().reset_index()\n",
    "\n",
    "# Plotting bar charts\n",
    "plt.figure(figsize=(16, 8))\n",
    "\n",
    "# Bar chart for 'State' and 'International plan'\n",
    "plt.subplot(1, 2, 1)\n",
    "sns.barplot(x='State', y='Churn', hue='International plan', data=agg_data_state)\n",
    "plt.title('Churn Rate by State and International Plan')\n",
    "plt.xlabel('State')\n",
    "plt.ylabel('Churn Rate')\n",
    "\n",
    "# Bar chart for 'Area code' and 'International plan'\n",
    "plt.subplot(1, 2, 2)\n",
    "sns.barplot(x='Area code', y='Churn', hue='International plan', data=agg_data_area)\n",
    "plt.title('Churn Rate by Area Code and International Plan')\n",
    "plt.xlabel('Area Code')\n",
    "plt.ylabel('Churn Rate')\n",
    "\n",
    "# Adjust layout for better visualization\n",
    "plt.tight_layout()\n",
    "\n",
    "# Show the plots\n",
    "plt.show()\n"
   ]
  },
  {
   "cell_type": "markdown",
   "id": "8fb3c3c3",
   "metadata": {},
   "source": [
    "- The churn rate seems to be different in every State but not nearly stay the same for all 3 Area. "
   ]
  },
  {
   "cell_type": "markdown",
   "id": "a77237fc",
   "metadata": {},
   "source": [
    "3. Data Processing "
   ]
  },
  {
   "cell_type": "markdown",
   "id": "05bcdb56",
   "metadata": {},
   "source": [
    "- One hot Encoding for State and Area Code\n"
   ]
  },
  {
   "cell_type": "code",
   "execution_count": 45,
   "id": "e5262044",
   "metadata": {},
   "outputs": [],
   "source": [
    "# Assuming df_train is your original DataFrame\n",
    "df_train_encoded = pd.get_dummies(df_train, columns=['State','Area code','International plan' ,'Voice mail plan'], drop_first=True)\n",
    "df_test_encoded = pd.get_dummies(df_test, columns=['State','Area code','International plan' ,'Voice mail plan'], drop_first=True)"
   ]
  },
  {
   "cell_type": "markdown",
   "id": "5b5000e0",
   "metadata": {},
   "source": [
    "- Split df_test and df_train to X_train,y_train , X_test and y_test"
   ]
  },
  {
   "cell_type": "code",
   "execution_count": 46,
   "id": "fb8070da",
   "metadata": {},
   "outputs": [],
   "source": [
    "# Create X_train and y_train\n",
    "X_train = df_train_encoded.drop('Churn', axis=1)\n",
    "y_train = df_train_encoded['Churn']\n",
    "\n",
    "# Create X_test and y_test\n",
    "X_test = df_test_encoded.drop('Churn', axis=1)\n",
    "y_test = df_test_encoded['Churn']"
   ]
  },
  {
   "cell_type": "markdown",
   "id": "eb4cf629",
   "metadata": {},
   "source": [
    "- Apply Standard Scaler to other columns "
   ]
  },
  {
   "cell_type": "code",
   "execution_count": 47,
   "id": "1b9cbc7b",
   "metadata": {},
   "outputs": [],
   "source": [
    "scaler = StandardScaler()\n",
    "X_train_scaled = scaler.fit_transform(X_train)\n",
    "X_test_scaled = scaler.transform(X_test)"
   ]
  },
  {
   "cell_type": "markdown",
   "id": "a101ea78",
   "metadata": {},
   "source": [
    "4. Applying models "
   ]
  },
  {
   "cell_type": "markdown",
   "id": "4d5f85d4",
   "metadata": {},
   "source": [
    "- Apply default models, I decided to use Random Forest, SVM, RandomForest and Decision Tree first."
   ]
  },
  {
   "cell_type": "code",
   "execution_count": 48,
   "id": "0d917181",
   "metadata": {},
   "outputs": [],
   "source": [
    "# Logistic Regression\n",
    "lr_model = LogisticRegression(random_state=42)\n",
    "lr_model.fit(X_train_scaled,y_train)\n",
    "lr_predictions = lr_model.predict(X_test_scaled)\n",
    "\n",
    "# Random Forest\n",
    "rf_model = RandomForestClassifier()\n",
    "rf_model.fit(X_train_scaled,y_train)\n",
    "rf_predictions = rf_model.predict(X_test_scaled)\n",
    "\n",
    "# Support Vector Machine (SVM)\n",
    "svm_model = SVC()\n",
    "svm_model.fit(X_train_scaled,y_train)\n",
    "svm_predictions = svm_model.predict(X_test_scaled)\n",
    "\n",
    "# Decision Tree\n",
    "dt_model = DecisionTreeClassifier()\n",
    "dt_model.fit(X_train_scaled,y_train)\n",
    "dt_predictions = dt_model.predict(X_test_scaled)"
   ]
  },
  {
   "cell_type": "markdown",
   "id": "710eca8d",
   "metadata": {},
   "source": [
    "- Models accuracy "
   ]
  },
  {
   "cell_type": "code",
   "execution_count": 49,
   "id": "d7ddde7c",
   "metadata": {},
   "outputs": [
    {
     "name": "stdout",
     "output_type": "stream",
     "text": [
      "Model: Logistic Regression\n",
      "Accuracy: 0.8591\n",
      "Model: Random Forest\n",
      "Accuracy: 0.9400\n",
      "Model: Support Vector Machine\n",
      "Accuracy: 0.8696\n",
      "Model: Decision Tree\n",
      "Accuracy: 0.9310\n"
     ]
    }
   ],
   "source": [
    "from sklearn.metrics import accuracy_score, classification_report\n",
    "\n",
    "# Evaluate models on the test set\n",
    "models = [\n",
    "    ('Logistic Regression', lr_model, X_test_scaled),\n",
    "    ('Random Forest', rf_model, X_test_scaled),\n",
    "    ('Support Vector Machine', svm_model, X_test_scaled),\n",
    "    ('Decision Tree', dt_model, X_test_scaled)\n",
    "]\n",
    "\n",
    "for model_name, model, X_test_data in models:\n",
    "    predictions = model.predict(X_test_data)\n",
    "    accuracy = accuracy_score(y_test, predictions)\n",
    "    \n",
    "    print(f\"Model: {model_name}\")\n",
    "    print(f\"Accuracy: {accuracy:.4f}\")"
   ]
  },
  {
   "cell_type": "markdown",
   "id": "a9fda1fe",
   "metadata": {},
   "source": [
    "In the first try, We managed to get really high accuracy score.This might be because of the well-structured the data"
   ]
  },
  {
   "cell_type": "markdown",
   "id": "6388cecf",
   "metadata": {},
   "source": [
    "Random Forest and Decision tree leads in the Accuracy score between 4 models "
   ]
  },
  {
   "cell_type": "markdown",
   "id": "4cd24ae5",
   "metadata": {},
   "source": [
    "5. Improving the models "
   ]
  },
  {
   "cell_type": "markdown",
   "id": "081ee36f",
   "metadata": {},
   "source": [
    "Let's try to use gridsearch() for random forest and decision tree."
   ]
  },
  {
   "cell_type": "code",
   "execution_count": 50,
   "id": "f0bbbda2",
   "metadata": {},
   "outputs": [],
   "source": [
    "# Define model parameters\n",
    "model_params = {\n",
    "    'Random Forest': {\n",
    "        'model': RandomForestClassifier(),\n",
    "        'params': {\n",
    "            'n_estimators': [50, 100, 200 ,250],\n",
    "            'max_depth': [None, 10, 20, 30],\n",
    "        }\n",
    "    },\n",
    "    'Decision Tree': {\n",
    "        'model': DecisionTreeClassifier(),\n",
    "        'params': {\n",
    "            'criterion': ['gini', 'entropy'],\n",
    "            'max_depth': [None, 10, 20, 30],\n",
    "            'min_samples_split': [2, 5, 10],\n",
    "            'min_samples_leaf': [1, 2, 4]\n",
    "        }\n",
    "    }\n",
    "}\n"
   ]
  },
  {
   "cell_type": "code",
   "execution_count": 51,
   "id": "21ea6b5f",
   "metadata": {},
   "outputs": [],
   "source": [
    "# Loop through the models and perform GridSearchCV\n",
    "scores = []\n",
    "\n",
    "for model_name, mp in model_params.items():\n",
    "    clf = GridSearchCV(mp['model'], mp['params'], cv=5, return_train_score=False)\n",
    "    clf.fit(X_train_scaled, y_train)\n",
    "    scores.append({\n",
    "        'model': model_name,\n",
    "        'best_score': clf.best_score_,\n",
    "        'best_params': clf.best_params_\n",
    "    })\n",
    "\n",
    "# Display the results\n",
    "df = pd.DataFrame(scores, columns=['model', 'best_score', 'best_params'])"
   ]
  },
  {
   "cell_type": "code",
   "execution_count": 52,
   "id": "cae3a7c8",
   "metadata": {},
   "outputs": [
    {
     "name": "stdout",
     "output_type": "stream",
     "text": [
      "           model  best_score  \\\n",
      "0  Random Forest    0.938485   \n",
      "1  Decision Tree    0.932859   \n",
      "\n",
      "                                                                                 best_params  \n",
      "0                                                   {'max_depth': None, 'n_estimators': 100}  \n",
      "1  {'criterion': 'entropy', 'max_depth': 10, 'min_samples_leaf': 4, 'min_samples_split': 10}  \n"
     ]
    }
   ],
   "source": [
    "# Set the display option to show the entire content of 'best_params' column\n",
    "pd.set_option('display.max_colwidth', None)\n",
    "\n",
    "# Display the results\n",
    "print(df)"
   ]
  },
  {
   "cell_type": "markdown",
   "id": "02a7303c",
   "metadata": {},
   "source": [
    "- Try the best params for Decision Tree and Random Forest : "
   ]
  },
  {
   "cell_type": "code",
   "execution_count": 53,
   "id": "c9a73dd2",
   "metadata": {},
   "outputs": [
    {
     "name": "stdout",
     "output_type": "stream",
     "text": [
      "Model: Random Forest\n",
      "Accuracy: 0.9400\n",
      "Model: Decision Tree\n",
      "Accuracy: 0.9490\n"
     ]
    }
   ],
   "source": [
    "# Best parameters from the grid search\n",
    "best_params_rf = { 'max_depth': 20, 'n_estimators': 200}\n",
    "best_params_dt = {'criterion': 'gini', 'max_depth': 10, 'min_samples_leaf': 2, 'min_samples_split': 5}\n",
    "\n",
    "# Random Forest\n",
    "rf_model = RandomForestClassifier(**best_params_rf)\n",
    "rf_model.fit(X_train_scaled, y_train)\n",
    "rf_predictions = rf_model.predict(X_test_scaled)\n",
    "\n",
    "# Decision Tree\n",
    "dt_model = DecisionTreeClassifier(**best_params_dt)\n",
    "dt_model.fit(X_train_scaled, y_train)\n",
    "dt_predictions = dt_model.predict(X_test_scaled)\n",
    "\n",
    "# Evaluate models on the test set\n",
    "models = [\n",
    "    ('Random Forest', rf_model, rf_predictions),\n",
    "    ('Decision Tree', dt_model, dt_predictions)\n",
    "]\n",
    "\n",
    "for model_name, model, predictions in models:\n",
    "    accuracy = accuracy_score(y_test, predictions)\n",
    "\n",
    "    print(f\"Model: {model_name}\")\n",
    "    print(f\"Accuracy: {accuracy:.4f}\")"
   ]
  },
  {
   "cell_type": "markdown",
   "id": "7e3199f4",
   "metadata": {},
   "source": [
    "So, by using GridSearchCV(), I have improved the Decision Tree model alot from under 0.93 to around 0.94 to abover 0.95. Meanwhile the RandomForest model seems not to improved too much."
   ]
  },
  {
   "cell_type": "markdown",
   "id": "8785ef29",
   "metadata": {},
   "source": [
    "- Try using Bragging + decision Tree (Ensemble Learning)"
   ]
  },
  {
   "cell_type": "code",
   "execution_count": 61,
   "id": "0b061583",
   "metadata": {},
   "outputs": [
    {
     "name": "stderr",
     "output_type": "stream",
     "text": [
      "C:\\Users\\vanhu\\anaconda3\\Lib\\site-packages\\sklearn\\ensemble\\_base.py:156: FutureWarning: `base_estimator` was renamed to `estimator` in version 1.2 and will be removed in 1.4.\n",
      "  warnings.warn(\n"
     ]
    },
    {
     "name": "stdout",
     "output_type": "stream",
     "text": [
      "Model: Bagging with Decision Tree as Base Estimator\n",
      "Accuracy: 0.9610\n"
     ]
    }
   ],
   "source": [
    "from sklearn.ensemble import BaggingClassifier\n",
    "\n",
    "# Specify parameters for the Bagging model\n",
    "bagging_params = {\n",
    "    'base_estimator': dt_model\n",
    "}\n",
    "\n",
    "# Instantiate BaggingClassifier with Decision Tree as the base estimator and specified parameters\n",
    "bagging_model = BaggingClassifier(**bagging_params)\n",
    "\n",
    "# Train the Bagging model\n",
    "bagging_model.fit(X_train_scaled, y_train)\n",
    "\n",
    "# Evaluate the model on the test set\n",
    "bagging_predictions = bagging_model.predict(X_test_scaled)\n",
    "bagging_accuracy = accuracy_score(y_test, bagging_predictions)\n",
    "\n",
    "print(\"Model: Bagging with Decision Tree as Base Estimator\")\n",
    "print(f\"Accuracy: {bagging_accuracy:.4f}\")\n"
   ]
  },
  {
   "cell_type": "markdown",
   "id": "15040dc3",
   "metadata": {},
   "source": [
    "Using Ensemble Learning + Decision Tree give a solid accuracy which is 0.9610 and this is the highest accuracy so far. \n",
    "In this dataset, I will choose Bagging model with decision tree({'criterion': 'entropy', 'max_depth': 10, 'min_samples_leaf': 4, 'min_samples_split': 10}) as base model "
   ]
  },
  {
   "cell_type": "code",
   "execution_count": null,
   "id": "e77054c2",
   "metadata": {},
   "outputs": [],
   "source": []
  },
  {
   "cell_type": "code",
   "execution_count": null,
   "id": "65d139c5",
   "metadata": {},
   "outputs": [],
   "source": []
  },
  {
   "cell_type": "code",
   "execution_count": null,
   "id": "958b697e",
   "metadata": {},
   "outputs": [],
   "source": []
  },
  {
   "cell_type": "code",
   "execution_count": null,
   "id": "dc7c9832",
   "metadata": {},
   "outputs": [],
   "source": []
  },
  {
   "cell_type": "code",
   "execution_count": null,
   "id": "8b16f960",
   "metadata": {},
   "outputs": [],
   "source": []
  },
  {
   "cell_type": "code",
   "execution_count": null,
   "id": "447dcf1e",
   "metadata": {},
   "outputs": [],
   "source": []
  },
  {
   "cell_type": "code",
   "execution_count": null,
   "id": "d84e39eb",
   "metadata": {},
   "outputs": [],
   "source": []
  },
  {
   "cell_type": "code",
   "execution_count": null,
   "id": "e28c8d21",
   "metadata": {},
   "outputs": [],
   "source": []
  },
  {
   "cell_type": "code",
   "execution_count": null,
   "id": "51c86a27",
   "metadata": {},
   "outputs": [],
   "source": []
  },
  {
   "cell_type": "code",
   "execution_count": null,
   "id": "10d51b5f",
   "metadata": {},
   "outputs": [],
   "source": []
  }
 ],
 "metadata": {
  "kernelspec": {
   "display_name": "Python 3 (ipykernel)",
   "language": "python",
   "name": "python3"
  },
  "language_info": {
   "codemirror_mode": {
    "name": "ipython",
    "version": 3
   },
   "file_extension": ".py",
   "mimetype": "text/x-python",
   "name": "python",
   "nbconvert_exporter": "python",
   "pygments_lexer": "ipython3",
   "version": "3.11.5"
  }
 },
 "nbformat": 4,
 "nbformat_minor": 5
}
